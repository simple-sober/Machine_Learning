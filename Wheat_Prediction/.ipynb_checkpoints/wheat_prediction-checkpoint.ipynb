{
 "cells": [
  {
   "cell_type": "markdown",
   "metadata": {},
   "source": [
    "## Wheat Prediction Model"
   ]
  },
  {
   "cell_type": "markdown",
   "metadata": {},
   "source": [
    "Packages used"
   ]
  },
  {
   "cell_type": "code",
   "execution_count": 1,
   "metadata": {},
   "outputs": [],
   "source": [
    "import pandas as pd\n",
    "from sklearn.ensemble import RandomForestRegressor\n",
    "from sklearn.cross_validation import train_test_split\n",
    "from sklearn.metrics import mean_squared_error as err\n",
    "from sklearn.ensemble import GradientBoostingRegressor\n",
    "from sknn.mlp import Regressor, Layer\n",
    "from sklearn.neighbors import KNeighborsRegressor\n",
    "\n",
    "import numpy as np\n",
    "import matplotlib.pyplot as plt\n",
    "%matplotlib inline"
   ]
  },
  {
   "cell_type": "markdown",
   "metadata": {},
   "source": [
    "Reading and concatenating the 2013 and 2014 data to form 1 dataset"
   ]
  },
  {
   "cell_type": "code",
   "execution_count": 8,
   "metadata": {},
   "outputs": [],
   "source": [
    "data_2013 = pd.read_csv(\"wheat-2013-supervised.csv\")\n",
    "data_2014 = pd.read_csv(\"wheat-2014-supervised.csv\")\n",
    "total_data = pd.concat([data_2013, data_2014],axis=0)"
   ]
  },
  {
   "cell_type": "markdown",
   "metadata": {},
   "source": [
    "Checking the datashape"
   ]
  },
  {
   "cell_type": "code",
   "execution_count": 9,
   "metadata": {},
   "outputs": [
    {
     "name": "stdout",
     "output_type": "stream",
     "text": [
      "(177493, 26)\n",
      "(360042, 26)\n"
     ]
    }
   ],
   "source": [
    "print(data_2013.shape)\n",
    "print(total_data.shape)"
   ]
  },
  {
   "cell_type": "markdown",
   "metadata": {
    "collapsed": true
   },
   "source": [
    "#### Some Extrapolatory Analysis:"
   ]
  },
  {
   "cell_type": "markdown",
   "metadata": {},
   "source": [
    "##### Summary Statistics"
   ]
  },
  {
   "cell_type": "code",
   "execution_count": 10,
   "metadata": {},
   "outputs": [
    {
     "name": "stderr",
     "output_type": "stream",
     "text": [
      "/Users/DataFlash/anaconda/lib/python3.5/site-packages/numpy/lib/function_base.py:3834: RuntimeWarning: Invalid value encountered in percentile\n",
      "  RuntimeWarning)\n"
     ]
    },
    {
     "data": {
      "text/html": [
       "<div>\n",
       "<table border=\"1\" class=\"dataframe\">\n",
       "  <thead>\n",
       "    <tr style=\"text-align: right;\">\n",
       "      <th></th>\n",
       "      <th>Latitude</th>\n",
       "      <th>Longitude</th>\n",
       "      <th>apparentTemperatureMax</th>\n",
       "      <th>apparentTemperatureMin</th>\n",
       "      <th>cloudCover</th>\n",
       "      <th>dewPoint</th>\n",
       "      <th>humidity</th>\n",
       "      <th>precipIntensity</th>\n",
       "      <th>precipIntensityMax</th>\n",
       "      <th>precipProbability</th>\n",
       "      <th>...</th>\n",
       "      <th>precipTypeIsOther</th>\n",
       "      <th>pressure</th>\n",
       "      <th>temperatureMax</th>\n",
       "      <th>temperatureMin</th>\n",
       "      <th>visibility</th>\n",
       "      <th>windBearing</th>\n",
       "      <th>windSpeed</th>\n",
       "      <th>NDVI</th>\n",
       "      <th>DayInSeason</th>\n",
       "      <th>Yield</th>\n",
       "    </tr>\n",
       "  </thead>\n",
       "  <tbody>\n",
       "    <tr>\n",
       "      <th>count</th>\n",
       "      <td>177493.000000</td>\n",
       "      <td>177493.000000</td>\n",
       "      <td>177493.000000</td>\n",
       "      <td>177493.000000</td>\n",
       "      <td>177493.000000</td>\n",
       "      <td>177493.000000</td>\n",
       "      <td>177493.000000</td>\n",
       "      <td>177492.000000</td>\n",
       "      <td>177492.000000</td>\n",
       "      <td>177492.000000</td>\n",
       "      <td>...</td>\n",
       "      <td>177493.0</td>\n",
       "      <td>177239.000000</td>\n",
       "      <td>177493.000000</td>\n",
       "      <td>177493.000000</td>\n",
       "      <td>177463.000000</td>\n",
       "      <td>177493.000000</td>\n",
       "      <td>177493.000000</td>\n",
       "      <td>177493.000000</td>\n",
       "      <td>177493.000000</td>\n",
       "      <td>177493.000000</td>\n",
       "    </tr>\n",
       "    <tr>\n",
       "      <th>mean</th>\n",
       "      <td>37.525355</td>\n",
       "      <td>-100.877849</td>\n",
       "      <td>54.836240</td>\n",
       "      <td>27.915526</td>\n",
       "      <td>0.071478</td>\n",
       "      <td>29.712311</td>\n",
       "      <td>0.593973</td>\n",
       "      <td>0.001158</td>\n",
       "      <td>0.010633</td>\n",
       "      <td>0.133540</td>\n",
       "      <td>...</td>\n",
       "      <td>0.0</td>\n",
       "      <td>1017.077664</td>\n",
       "      <td>57.547801</td>\n",
       "      <td>34.393113</td>\n",
       "      <td>9.285829</td>\n",
       "      <td>191.165483</td>\n",
       "      <td>8.436830</td>\n",
       "      <td>146.346701</td>\n",
       "      <td>92.633084</td>\n",
       "      <td>31.443024</td>\n",
       "    </tr>\n",
       "    <tr>\n",
       "      <th>std</th>\n",
       "      <td>4.918148</td>\n",
       "      <td>5.960510</td>\n",
       "      <td>23.827278</td>\n",
       "      <td>22.029381</td>\n",
       "      <td>0.138932</td>\n",
       "      <td>16.687710</td>\n",
       "      <td>0.163590</td>\n",
       "      <td>0.004559</td>\n",
       "      <td>0.044782</td>\n",
       "      <td>0.253416</td>\n",
       "      <td>...</td>\n",
       "      <td>0.0</td>\n",
       "      <td>8.607401</td>\n",
       "      <td>20.755273</td>\n",
       "      <td>17.801718</td>\n",
       "      <td>1.281721</td>\n",
       "      <td>104.103600</td>\n",
       "      <td>4.767758</td>\n",
       "      <td>10.130267</td>\n",
       "      <td>53.608768</td>\n",
       "      <td>15.214107</td>\n",
       "    </tr>\n",
       "    <tr>\n",
       "      <th>min</th>\n",
       "      <td>27.803015</td>\n",
       "      <td>-120.914093</td>\n",
       "      <td>-39.970000</td>\n",
       "      <td>-58.420000</td>\n",
       "      <td>0.000000</td>\n",
       "      <td>-36.090000</td>\n",
       "      <td>0.080000</td>\n",
       "      <td>0.000000</td>\n",
       "      <td>0.000000</td>\n",
       "      <td>0.000000</td>\n",
       "      <td>...</td>\n",
       "      <td>0.0</td>\n",
       "      <td>942.490000</td>\n",
       "      <td>-22.000000</td>\n",
       "      <td>-39.790000</td>\n",
       "      <td>0.600000</td>\n",
       "      <td>0.000000</td>\n",
       "      <td>0.040000</td>\n",
       "      <td>117.000000</td>\n",
       "      <td>0.000000</td>\n",
       "      <td>9.000000</td>\n",
       "    </tr>\n",
       "    <tr>\n",
       "      <th>25%</th>\n",
       "      <td>34.135464</td>\n",
       "      <td>-101.294945</td>\n",
       "      <td>37.830000</td>\n",
       "      <td>14.310000</td>\n",
       "      <td>0.000000</td>\n",
       "      <td>19.600000</td>\n",
       "      <td>0.470000</td>\n",
       "      <td>NaN</td>\n",
       "      <td>NaN</td>\n",
       "      <td>NaN</td>\n",
       "      <td>...</td>\n",
       "      <td>0.0</td>\n",
       "      <td>NaN</td>\n",
       "      <td>43.350000</td>\n",
       "      <td>23.420000</td>\n",
       "      <td>NaN</td>\n",
       "      <td>127.000000</td>\n",
       "      <td>4.760000</td>\n",
       "      <td>137.876236</td>\n",
       "      <td>46.000000</td>\n",
       "      <td>17.300000</td>\n",
       "    </tr>\n",
       "    <tr>\n",
       "      <th>50%</th>\n",
       "      <td>36.810364</td>\n",
       "      <td>-99.128028</td>\n",
       "      <td>58.880000</td>\n",
       "      <td>26.560000</td>\n",
       "      <td>0.010000</td>\n",
       "      <td>27.850000</td>\n",
       "      <td>0.600000</td>\n",
       "      <td>NaN</td>\n",
       "      <td>NaN</td>\n",
       "      <td>NaN</td>\n",
       "      <td>...</td>\n",
       "      <td>0.0</td>\n",
       "      <td>NaN</td>\n",
       "      <td>58.880000</td>\n",
       "      <td>33.250000</td>\n",
       "      <td>NaN</td>\n",
       "      <td>192.000000</td>\n",
       "      <td>7.670000</td>\n",
       "      <td>147.225510</td>\n",
       "      <td>93.000000</td>\n",
       "      <td>31.100000</td>\n",
       "    </tr>\n",
       "    <tr>\n",
       "      <th>75%</th>\n",
       "      <td>38.945878</td>\n",
       "      <td>-97.352044</td>\n",
       "      <td>73.100000</td>\n",
       "      <td>42.200000</td>\n",
       "      <td>0.090000</td>\n",
       "      <td>38.890000</td>\n",
       "      <td>0.720000</td>\n",
       "      <td>NaN</td>\n",
       "      <td>NaN</td>\n",
       "      <td>NaN</td>\n",
       "      <td>...</td>\n",
       "      <td>0.0</td>\n",
       "      <td>NaN</td>\n",
       "      <td>73.100000</td>\n",
       "      <td>46.070000</td>\n",
       "      <td>NaN</td>\n",
       "      <td>275.000000</td>\n",
       "      <td>11.530000</td>\n",
       "      <td>152.935913</td>\n",
       "      <td>139.000000</td>\n",
       "      <td>43.100000</td>\n",
       "    </tr>\n",
       "    <tr>\n",
       "      <th>max</th>\n",
       "      <td>48.981928</td>\n",
       "      <td>-94.613571</td>\n",
       "      <td>177.320000</td>\n",
       "      <td>77.180000</td>\n",
       "      <td>1.000000</td>\n",
       "      <td>75.180000</td>\n",
       "      <td>1.000000</td>\n",
       "      <td>0.152900</td>\n",
       "      <td>2.054900</td>\n",
       "      <td>0.960000</td>\n",
       "      <td>...</td>\n",
       "      <td>0.0</td>\n",
       "      <td>1048.130000</td>\n",
       "      <td>105.200000</td>\n",
       "      <td>77.180000</td>\n",
       "      <td>10.000000</td>\n",
       "      <td>359.000000</td>\n",
       "      <td>31.730000</td>\n",
       "      <td>206.000000</td>\n",
       "      <td>185.000000</td>\n",
       "      <td>72.200000</td>\n",
       "    </tr>\n",
       "  </tbody>\n",
       "</table>\n",
       "<p>8 rows × 23 columns</p>\n",
       "</div>"
      ],
      "text/plain": [
       "            Latitude      Longitude  apparentTemperatureMax  \\\n",
       "count  177493.000000  177493.000000           177493.000000   \n",
       "mean       37.525355    -100.877849               54.836240   \n",
       "std         4.918148       5.960510               23.827278   \n",
       "min        27.803015    -120.914093              -39.970000   \n",
       "25%        34.135464    -101.294945               37.830000   \n",
       "50%        36.810364     -99.128028               58.880000   \n",
       "75%        38.945878     -97.352044               73.100000   \n",
       "max        48.981928     -94.613571              177.320000   \n",
       "\n",
       "       apparentTemperatureMin     cloudCover       dewPoint       humidity  \\\n",
       "count           177493.000000  177493.000000  177493.000000  177493.000000   \n",
       "mean                27.915526       0.071478      29.712311       0.593973   \n",
       "std                 22.029381       0.138932      16.687710       0.163590   \n",
       "min                -58.420000       0.000000     -36.090000       0.080000   \n",
       "25%                 14.310000       0.000000      19.600000       0.470000   \n",
       "50%                 26.560000       0.010000      27.850000       0.600000   \n",
       "75%                 42.200000       0.090000      38.890000       0.720000   \n",
       "max                 77.180000       1.000000      75.180000       1.000000   \n",
       "\n",
       "       precipIntensity  precipIntensityMax  precipProbability      ...        \\\n",
       "count    177492.000000       177492.000000      177492.000000      ...         \n",
       "mean          0.001158            0.010633           0.133540      ...         \n",
       "std           0.004559            0.044782           0.253416      ...         \n",
       "min           0.000000            0.000000           0.000000      ...         \n",
       "25%                NaN                 NaN                NaN      ...         \n",
       "50%                NaN                 NaN                NaN      ...         \n",
       "75%                NaN                 NaN                NaN      ...         \n",
       "max           0.152900            2.054900           0.960000      ...         \n",
       "\n",
       "       precipTypeIsOther       pressure  temperatureMax  temperatureMin  \\\n",
       "count           177493.0  177239.000000   177493.000000   177493.000000   \n",
       "mean                 0.0    1017.077664       57.547801       34.393113   \n",
       "std                  0.0       8.607401       20.755273       17.801718   \n",
       "min                  0.0     942.490000      -22.000000      -39.790000   \n",
       "25%                  0.0            NaN       43.350000       23.420000   \n",
       "50%                  0.0            NaN       58.880000       33.250000   \n",
       "75%                  0.0            NaN       73.100000       46.070000   \n",
       "max                  0.0    1048.130000      105.200000       77.180000   \n",
       "\n",
       "          visibility    windBearing      windSpeed           NDVI  \\\n",
       "count  177463.000000  177493.000000  177493.000000  177493.000000   \n",
       "mean        9.285829     191.165483       8.436830     146.346701   \n",
       "std         1.281721     104.103600       4.767758      10.130267   \n",
       "min         0.600000       0.000000       0.040000     117.000000   \n",
       "25%              NaN     127.000000       4.760000     137.876236   \n",
       "50%              NaN     192.000000       7.670000     147.225510   \n",
       "75%              NaN     275.000000      11.530000     152.935913   \n",
       "max        10.000000     359.000000      31.730000     206.000000   \n",
       "\n",
       "         DayInSeason          Yield  \n",
       "count  177493.000000  177493.000000  \n",
       "mean       92.633084      31.443024  \n",
       "std        53.608768      15.214107  \n",
       "min         0.000000       9.000000  \n",
       "25%        46.000000      17.300000  \n",
       "50%        93.000000      31.100000  \n",
       "75%       139.000000      43.100000  \n",
       "max       185.000000      72.200000  \n",
       "\n",
       "[8 rows x 23 columns]"
      ]
     },
     "execution_count": 10,
     "metadata": {},
     "output_type": "execute_result"
    }
   ],
   "source": [
    "data_2013.describe()"
   ]
  },
  {
   "cell_type": "code",
   "execution_count": 153,
   "metadata": {},
   "outputs": [
    {
     "data": {
      "text/plain": [
       "CountyName                 object\n",
       "State                      object\n",
       "Latitude                  float64\n",
       "Longitude                 float64\n",
       "Date                       object\n",
       "apparentTemperatureMax    float64\n",
       "apparentTemperatureMin    float64\n",
       "cloudCover                float64\n",
       "dewPoint                  float64\n",
       "humidity                  float64\n",
       "precipIntensity           float64\n",
       "precipIntensityMax        float64\n",
       "precipProbability         float64\n",
       "precipAccumulation        float64\n",
       "precipTypeIsRain            int64\n",
       "precipTypeIsSnow            int64\n",
       "precipTypeIsOther           int64\n",
       "pressure                  float64\n",
       "temperatureMax            float64\n",
       "temperatureMin            float64\n",
       "visibility                float64\n",
       "windBearing                 int64\n",
       "windSpeed                 float64\n",
       "NDVI                      float64\n",
       "DayInSeason                 int64\n",
       "Yield                     float64\n",
       "dtype: object"
      ]
     },
     "execution_count": 153,
     "metadata": {},
     "output_type": "execute_result"
    }
   ],
   "source": [
    "data_2013.dtypes"
   ]
  },
  {
   "cell_type": "code",
   "execution_count": 103,
   "metadata": {},
   "outputs": [
    {
     "name": "stderr",
     "output_type": "stream",
     "text": [
      "/Users/DataFlash/anaconda/lib/python3.5/site-packages/numpy/lib/function_base.py:3834: RuntimeWarning: Invalid value encountered in percentile\n",
      "  RuntimeWarning)\n"
     ]
    },
    {
     "data": {
      "text/html": [
       "<div>\n",
       "<table border=\"1\" class=\"dataframe\">\n",
       "  <thead>\n",
       "    <tr style=\"text-align: right;\">\n",
       "      <th></th>\n",
       "      <th>Latitude</th>\n",
       "      <th>Longitude</th>\n",
       "      <th>apparentTemperatureMax</th>\n",
       "      <th>apparentTemperatureMin</th>\n",
       "      <th>cloudCover</th>\n",
       "      <th>dewPoint</th>\n",
       "      <th>humidity</th>\n",
       "      <th>precipIntensity</th>\n",
       "      <th>precipIntensityMax</th>\n",
       "      <th>precipProbability</th>\n",
       "      <th>...</th>\n",
       "      <th>precipTypeIsOther</th>\n",
       "      <th>pressure</th>\n",
       "      <th>temperatureMax</th>\n",
       "      <th>temperatureMin</th>\n",
       "      <th>visibility</th>\n",
       "      <th>windBearing</th>\n",
       "      <th>windSpeed</th>\n",
       "      <th>NDVI</th>\n",
       "      <th>DayInSeason</th>\n",
       "      <th>Yield</th>\n",
       "    </tr>\n",
       "  </thead>\n",
       "  <tbody>\n",
       "    <tr>\n",
       "      <th>count</th>\n",
       "      <td>182549.000000</td>\n",
       "      <td>182549.000000</td>\n",
       "      <td>182549.000000</td>\n",
       "      <td>182549.000000</td>\n",
       "      <td>182549.000000</td>\n",
       "      <td>182549.000000</td>\n",
       "      <td>182549.000000</td>\n",
       "      <td>182549.000000</td>\n",
       "      <td>182549.000000</td>\n",
       "      <td>182549.000000</td>\n",
       "      <td>...</td>\n",
       "      <td>182549.0</td>\n",
       "      <td>182198.000000</td>\n",
       "      <td>182549.000000</td>\n",
       "      <td>182549.000000</td>\n",
       "      <td>182533.000000</td>\n",
       "      <td>182549.000000</td>\n",
       "      <td>182549.000000</td>\n",
       "      <td>182549.000000</td>\n",
       "      <td>182549.00000</td>\n",
       "      <td>182549.000000</td>\n",
       "    </tr>\n",
       "    <tr>\n",
       "      <th>mean</th>\n",
       "      <td>36.976937</td>\n",
       "      <td>-100.547088</td>\n",
       "      <td>57.146379</td>\n",
       "      <td>33.669343</td>\n",
       "      <td>0.131278</td>\n",
       "      <td>36.664752</td>\n",
       "      <td>0.680338</td>\n",
       "      <td>0.002501</td>\n",
       "      <td>0.021390</td>\n",
       "      <td>0.205662</td>\n",
       "      <td>...</td>\n",
       "      <td>0.0</td>\n",
       "      <td>1018.779783</td>\n",
       "      <td>58.989567</td>\n",
       "      <td>38.757876</td>\n",
       "      <td>9.042049</td>\n",
       "      <td>171.727963</td>\n",
       "      <td>7.595578</td>\n",
       "      <td>145.885753</td>\n",
       "      <td>92.65286</td>\n",
       "      <td>33.836357</td>\n",
       "    </tr>\n",
       "    <tr>\n",
       "      <th>std</th>\n",
       "      <td>4.926798</td>\n",
       "      <td>5.587446</td>\n",
       "      <td>20.217840</td>\n",
       "      <td>19.649074</td>\n",
       "      <td>0.170087</td>\n",
       "      <td>16.202934</td>\n",
       "      <td>0.150459</td>\n",
       "      <td>0.007232</td>\n",
       "      <td>0.071354</td>\n",
       "      <td>0.307787</td>\n",
       "      <td>...</td>\n",
       "      <td>0.0</td>\n",
       "      <td>7.753283</td>\n",
       "      <td>17.404119</td>\n",
       "      <td>15.739407</td>\n",
       "      <td>1.473647</td>\n",
       "      <td>102.727345</td>\n",
       "      <td>4.072584</td>\n",
       "      <td>10.335488</td>\n",
       "      <td>53.63330</td>\n",
       "      <td>10.630116</td>\n",
       "    </tr>\n",
       "    <tr>\n",
       "      <th>min</th>\n",
       "      <td>27.363741</td>\n",
       "      <td>-120.914093</td>\n",
       "      <td>-24.340000</td>\n",
       "      <td>-43.250000</td>\n",
       "      <td>0.000000</td>\n",
       "      <td>-21.950000</td>\n",
       "      <td>0.140000</td>\n",
       "      <td>0.000000</td>\n",
       "      <td>0.000000</td>\n",
       "      <td>0.000000</td>\n",
       "      <td>...</td>\n",
       "      <td>0.0</td>\n",
       "      <td>945.090000</td>\n",
       "      <td>-5.570000</td>\n",
       "      <td>-24.960000</td>\n",
       "      <td>0.460000</td>\n",
       "      <td>0.000000</td>\n",
       "      <td>0.020000</td>\n",
       "      <td>101.000000</td>\n",
       "      <td>0.00000</td>\n",
       "      <td>12.900000</td>\n",
       "    </tr>\n",
       "    <tr>\n",
       "      <th>25%</th>\n",
       "      <td>33.598030</td>\n",
       "      <td>-101.174610</td>\n",
       "      <td>41.390000</td>\n",
       "      <td>20.890000</td>\n",
       "      <td>0.010000</td>\n",
       "      <td>25.740000</td>\n",
       "      <td>0.570000</td>\n",
       "      <td>0.000000</td>\n",
       "      <td>0.000000</td>\n",
       "      <td>0.000000</td>\n",
       "      <td>...</td>\n",
       "      <td>0.0</td>\n",
       "      <td>NaN</td>\n",
       "      <td>45.850000</td>\n",
       "      <td>28.390000</td>\n",
       "      <td>NaN</td>\n",
       "      <td>89.000000</td>\n",
       "      <td>4.490000</td>\n",
       "      <td>136.480255</td>\n",
       "      <td>46.00000</td>\n",
       "      <td>25.700000</td>\n",
       "    </tr>\n",
       "    <tr>\n",
       "      <th>50%</th>\n",
       "      <td>36.164529</td>\n",
       "      <td>-99.068063</td>\n",
       "      <td>61.460000</td>\n",
       "      <td>33.310000</td>\n",
       "      <td>0.080000</td>\n",
       "      <td>35.130000</td>\n",
       "      <td>0.680000</td>\n",
       "      <td>0.000000</td>\n",
       "      <td>0.000000</td>\n",
       "      <td>0.000000</td>\n",
       "      <td>...</td>\n",
       "      <td>0.0</td>\n",
       "      <td>NaN</td>\n",
       "      <td>61.460000</td>\n",
       "      <td>38.510000</td>\n",
       "      <td>NaN</td>\n",
       "      <td>171.000000</td>\n",
       "      <td>7.090000</td>\n",
       "      <td>146.507538</td>\n",
       "      <td>93.00000</td>\n",
       "      <td>32.900000</td>\n",
       "    </tr>\n",
       "    <tr>\n",
       "      <th>75%</th>\n",
       "      <td>38.451644</td>\n",
       "      <td>-97.270576</td>\n",
       "      <td>72.990000</td>\n",
       "      <td>50.630000</td>\n",
       "      <td>0.180000</td>\n",
       "      <td>48.840000</td>\n",
       "      <td>0.800000</td>\n",
       "      <td>0.001000</td>\n",
       "      <td>0.010100</td>\n",
       "      <td>0.510000</td>\n",
       "      <td>...</td>\n",
       "      <td>0.0</td>\n",
       "      <td>NaN</td>\n",
       "      <td>72.990000</td>\n",
       "      <td>50.630000</td>\n",
       "      <td>NaN</td>\n",
       "      <td>246.000000</td>\n",
       "      <td>10.150000</td>\n",
       "      <td>153.231476</td>\n",
       "      <td>139.00000</td>\n",
       "      <td>41.500000</td>\n",
       "    </tr>\n",
       "    <tr>\n",
       "      <th>max</th>\n",
       "      <td>48.981928</td>\n",
       "      <td>-94.164602</td>\n",
       "      <td>103.910000</td>\n",
       "      <td>79.560000</td>\n",
       "      <td>1.000000</td>\n",
       "      <td>78.350000</td>\n",
       "      <td>1.000000</td>\n",
       "      <td>0.255800</td>\n",
       "      <td>3.367400</td>\n",
       "      <td>0.970000</td>\n",
       "      <td>...</td>\n",
       "      <td>0.0</td>\n",
       "      <td>1049.530000</td>\n",
       "      <td>95.580000</td>\n",
       "      <td>79.560000</td>\n",
       "      <td>10.000000</td>\n",
       "      <td>359.000000</td>\n",
       "      <td>30.460000</td>\n",
       "      <td>208.000000</td>\n",
       "      <td>185.00000</td>\n",
       "      <td>78.000000</td>\n",
       "    </tr>\n",
       "  </tbody>\n",
       "</table>\n",
       "<p>8 rows × 23 columns</p>\n",
       "</div>"
      ],
      "text/plain": [
       "            Latitude      Longitude  apparentTemperatureMax  \\\n",
       "count  182549.000000  182549.000000           182549.000000   \n",
       "mean       36.976937    -100.547088               57.146379   \n",
       "std         4.926798       5.587446               20.217840   \n",
       "min        27.363741    -120.914093              -24.340000   \n",
       "25%        33.598030    -101.174610               41.390000   \n",
       "50%        36.164529     -99.068063               61.460000   \n",
       "75%        38.451644     -97.270576               72.990000   \n",
       "max        48.981928     -94.164602              103.910000   \n",
       "\n",
       "       apparentTemperatureMin     cloudCover       dewPoint       humidity  \\\n",
       "count           182549.000000  182549.000000  182549.000000  182549.000000   \n",
       "mean                33.669343       0.131278      36.664752       0.680338   \n",
       "std                 19.649074       0.170087      16.202934       0.150459   \n",
       "min                -43.250000       0.000000     -21.950000       0.140000   \n",
       "25%                 20.890000       0.010000      25.740000       0.570000   \n",
       "50%                 33.310000       0.080000      35.130000       0.680000   \n",
       "75%                 50.630000       0.180000      48.840000       0.800000   \n",
       "max                 79.560000       1.000000      78.350000       1.000000   \n",
       "\n",
       "       precipIntensity  precipIntensityMax  precipProbability      ...        \\\n",
       "count    182549.000000       182549.000000      182549.000000      ...         \n",
       "mean          0.002501            0.021390           0.205662      ...         \n",
       "std           0.007232            0.071354           0.307787      ...         \n",
       "min           0.000000            0.000000           0.000000      ...         \n",
       "25%           0.000000            0.000000           0.000000      ...         \n",
       "50%           0.000000            0.000000           0.000000      ...         \n",
       "75%           0.001000            0.010100           0.510000      ...         \n",
       "max           0.255800            3.367400           0.970000      ...         \n",
       "\n",
       "       precipTypeIsOther       pressure  temperatureMax  temperatureMin  \\\n",
       "count           182549.0  182198.000000   182549.000000   182549.000000   \n",
       "mean                 0.0    1018.779783       58.989567       38.757876   \n",
       "std                  0.0       7.753283       17.404119       15.739407   \n",
       "min                  0.0     945.090000       -5.570000      -24.960000   \n",
       "25%                  0.0            NaN       45.850000       28.390000   \n",
       "50%                  0.0            NaN       61.460000       38.510000   \n",
       "75%                  0.0            NaN       72.990000       50.630000   \n",
       "max                  0.0    1049.530000       95.580000       79.560000   \n",
       "\n",
       "          visibility    windBearing      windSpeed           NDVI  \\\n",
       "count  182533.000000  182549.000000  182549.000000  182549.000000   \n",
       "mean        9.042049     171.727963       7.595578     145.885753   \n",
       "std         1.473647     102.727345       4.072584      10.335488   \n",
       "min         0.460000       0.000000       0.020000     101.000000   \n",
       "25%              NaN      89.000000       4.490000     136.480255   \n",
       "50%              NaN     171.000000       7.090000     146.507538   \n",
       "75%              NaN     246.000000      10.150000     153.231476   \n",
       "max        10.000000     359.000000      30.460000     208.000000   \n",
       "\n",
       "        DayInSeason          Yield  \n",
       "count  182549.00000  182549.000000  \n",
       "mean       92.65286      33.836357  \n",
       "std        53.63330      10.630116  \n",
       "min         0.00000      12.900000  \n",
       "25%        46.00000      25.700000  \n",
       "50%        93.00000      32.900000  \n",
       "75%       139.00000      41.500000  \n",
       "max       185.00000      78.000000  \n",
       "\n",
       "[8 rows x 23 columns]"
      ]
     },
     "execution_count": 103,
     "metadata": {},
     "output_type": "execute_result"
    }
   ],
   "source": [
    "data_2014.describe()"
   ]
  },
  {
   "cell_type": "markdown",
   "metadata": {},
   "source": [
    "### We are removing the location based data because the yield for a particular location is always the same"
   ]
  },
  {
   "cell_type": "markdown",
   "metadata": {},
   "source": [
    "#### ** Hypothesis 1 **: \n",
    "A particular location (Longitude, Latitude) always have the same yield throughout a particular winter wheat yield, the Yield is different for different winters.\n"
   ]
  },
  {
   "cell_type": "code",
   "execution_count": 12,
   "metadata": {
    "collapsed": true
   },
   "outputs": [],
   "source": [
    "# First rounding the latitude and longitude\n",
    "data_2013[['Latitude','Longitude']] = data_2013[['Latitude','Longitude']].round(6)\n",
    "data_2014[['Latitude','Longitude']] = data_2014[['Latitude','Longitude']].round(6)"
   ]
  },
  {
   "cell_type": "code",
   "execution_count": 95,
   "metadata": {},
   "outputs": [
    {
     "data": {
      "text/html": [
       "<div>\n",
       "<table border=\"1\" class=\"dataframe\">\n",
       "  <thead>\n",
       "    <tr style=\"text-align: right;\">\n",
       "      <th></th>\n",
       "      <th>index</th>\n",
       "      <th>Latitude</th>\n",
       "      <th>Longitude</th>\n",
       "    </tr>\n",
       "  </thead>\n",
       "  <tbody>\n",
       "    <tr>\n",
       "      <th>0</th>\n",
       "      <td>0</td>\n",
       "      <td>46.811686</td>\n",
       "      <td>-118.695237</td>\n",
       "    </tr>\n",
       "    <tr>\n",
       "      <th>1</th>\n",
       "      <td>1</td>\n",
       "      <td>46.929839</td>\n",
       "      <td>-118.352109</td>\n",
       "    </tr>\n",
       "    <tr>\n",
       "      <th>2</th>\n",
       "      <td>2</td>\n",
       "      <td>47.006888</td>\n",
       "      <td>-118.510160</td>\n",
       "    </tr>\n",
       "    <tr>\n",
       "      <th>3</th>\n",
       "      <td>3</td>\n",
       "      <td>47.162342</td>\n",
       "      <td>-118.699677</td>\n",
       "    </tr>\n",
       "    <tr>\n",
       "      <th>4</th>\n",
       "      <td>4</td>\n",
       "      <td>47.157512</td>\n",
       "      <td>-118.434056</td>\n",
       "    </tr>\n",
       "  </tbody>\n",
       "</table>\n",
       "</div>"
      ],
      "text/plain": [
       "   index   Latitude   Longitude\n",
       "0      0  46.811686 -118.695237\n",
       "1      1  46.929839 -118.352109\n",
       "2      2  47.006888 -118.510160\n",
       "3      3  47.162342 -118.699677\n",
       "4      4  47.157512 -118.434056"
      ]
     },
     "execution_count": 95,
     "metadata": {},
     "output_type": "execute_result"
    }
   ],
   "source": [
    "# creating a dataframe for unique combinations of latitude and longitude\n",
    "lon_lat13 = data_2013.drop_duplicates(['Latitude','Longitude']).ix[:,2:4]\n",
    "lon_lat13 = lon_lat13.reset_index(inplace=False)\n",
    "lon_lat13.head()"
   ]
  },
  {
   "cell_type": "code",
   "execution_count": 102,
   "metadata": {},
   "outputs": [
    {
     "name": "stdout",
     "output_type": "stream",
     "text": [
      "Number of coordinates with more than 1 yield value: 0.0000 \n",
      "Total number of coordinates: 1014.0000\n"
     ]
    }
   ],
   "source": [
    "yield_list = []\n",
    "num_diff_yield = []\n",
    "for i in range(0, len(lon_lat13)):\n",
    "        yield_list.append(data_2013[(data_2013.Latitude == lon_lat13.Latitude[i]) &\n",
    "                                    (data_2013.Longitude == lon_lat13.Longitude[i])].Yield.unique())\n",
    "        num_diff_yield.append(len(data_2013[(data_2013.Latitude == lon_lat13.Latitude[i]) &\n",
    "                                            (data_2013.Longitude == lon_lat13.Longitude[i])].Yield.unique()))\n",
    "\n",
    "df1 = pd.DataFrame({'Location' : list(zip(lon_lat13.Latitude, lon_lat13.Longitude)), \n",
    "                   'Unique_Yields' : yield_list, 'Number_yield': num_diff_yield}, \n",
    "                  columns= ['Location','Unique_Yields', 'Number_yield'])\n",
    "\n",
    "print(\"Number of coordinates with more than 1 yield value: %.4f \" % len(df1[df1.Number_yield > 1]))\n",
    "print(\"Total number of coordinates: %.4f\" %len(df1))\n"
   ]
  },
  {
   "cell_type": "markdown",
   "metadata": {},
   "source": [
    "#### Hypothesis 2:\n",
    "Mostly particular county always produce the same yield throughout a particular winter year but the value of Yield is different for different years\n"
   ]
  },
  {
   "cell_type": "code",
   "execution_count": 43,
   "metadata": {},
   "outputs": [
    {
     "name": "stdout",
     "output_type": "stream",
     "text": [
      "Number of counties with more than 1 yield value: 19.0000 \n",
      "Total number of counties: 150.0000\n",
      "       County Unique_Yields  Number_yield\n",
      "0       Adams        [35.7]             1\n",
      "1     Alfalfa        [14.4]             1\n",
      "2       Allen        [46.5]             1\n",
      "3    Anderson        [45.6]             1\n",
      "4      Archer        [13.1]             1\n",
      "5   Armstrong        [13.8]             1\n",
      "6      Asotin        [52.4]             1\n",
      "7    Atchison        [52.9]             1\n",
      "8      Bailey        [21.4]             1\n",
      "9      Barber        [13.3]             1\n",
      "10     Barton        [27.6]             1\n",
      "11     Baylor        [16.5]             1\n",
      "12     Beaver        [14.6]             1\n",
      "13    Beckham        [14.2]             1\n",
      "14       Bell        [52.2]             1\n",
      "15      Bexar        [31.5]             1\n",
      "16   Big Horn        [52.4]             1\n",
      "17     Blaine  [38.4, 18.1]             2\n",
      "18     Bosque        [27.1]             1\n",
      "19    Bourbon        [47.4]             1\n"
     ]
    }
   ],
   "source": [
    "# creating unique county list\n",
    "countynames= data_2013.CountyName.unique()\n",
    "# creating unique yields for each county\n",
    "Yield_list = []\n",
    "Num_diff_yields = []\n",
    "for county in countynames:\n",
    "    Yield_list.append(data_2013[data_2013.CountyName == county].Yield.unique())\n",
    "    Num_diff_yields.append(len(data_2013[data_2013.CountyName == county].Yield.unique()))\n",
    "df = pd.DataFrame({'County' : countynames, 'Unique_Yields' : Yield_list, 'Number_yield': Num_diff_yields}, \n",
    "                  columns= ['County','Unique_Yields', 'Number_yield'])\n",
    "\n",
    "print(\"Number of counties with more than 1 yield value: %.4f \" % len(df[df.Number_yield > 1]))\n",
    "print(\"Total number of counties: %.4f\" %len(df))\n",
    "print(df.head(20))"
   ]
  },
  {
   "cell_type": "markdown",
   "metadata": {},
   "source": [
    "#### Removing location based fields in the data i.e. CountyName, State, Latitude and Longitude"
   ]
  },
  {
   "cell_type": "code",
   "execution_count": 107,
   "metadata": {
    "collapsed": true
   },
   "outputs": [],
   "source": [
    "total_data1 = total_data.drop(['CountyName','State','Latitude','Longitude','Date'],axis=1)"
   ]
  },
  {
   "cell_type": "markdown",
   "metadata": {},
   "source": [
    "#### Removing the rows with 'NA' values"
   ]
  },
  {
   "cell_type": "code",
   "execution_count": 108,
   "metadata": {
    "collapsed": true
   },
   "outputs": [],
   "source": [
    "total_data2 = total_data1.dropna(axis = 0)"
   ]
  },
  {
   "cell_type": "code",
   "execution_count": 109,
   "metadata": {},
   "outputs": [
    {
     "name": "stdout",
     "output_type": "stream",
     "text": [
      "360042\n",
      "359427\n"
     ]
    }
   ],
   "source": [
    "# number of rows before and after removing 'na' values\n",
    "print(total_data1.shape[0])\n",
    "print(total_data2.shape[0])"
   ]
  },
  {
   "cell_type": "markdown",
   "metadata": {},
   "source": [
    "Separating the Feature space and target value"
   ]
  },
  {
   "cell_type": "code",
   "execution_count": 110,
   "metadata": {
    "collapsed": true
   },
   "outputs": [],
   "source": [
    "cols = list(total_data2.columns)\n",
    "cols.remove('Yield')"
   ]
  },
  {
   "cell_type": "markdown",
   "metadata": {},
   "source": [
    "#### Creating a Train and Test split from the data"
   ]
  },
  {
   "cell_type": "code",
   "execution_count": 170,
   "metadata": {
    "collapsed": true
   },
   "outputs": [],
   "source": [
    "train_split, test_split = train_test_split(total_data2, test_size = 0.3)"
   ]
  },
  {
   "cell_type": "markdown",
   "metadata": {},
   "source": [
    "------------------------------------------------------------------------------"
   ]
  },
  {
   "cell_type": "markdown",
   "metadata": {},
   "source": [
    "### Model Creation:"
   ]
  },
  {
   "cell_type": "markdown",
   "metadata": {},
   "source": [
    "#### Technical Choice #1:\n",
    "We start with a Tree based model rather than a linear model as when the relationship between a feature and the output is conditional upon the values of other features. A tree-based model would be able to capture such a conditionality, but linear models simply cannot.\n",
    "\n",
    "Also, Tree-based models in principle can approximate functions with any \"shape\", whereas linear models can only produce functions with a linear \"shape\" with respect to a chosen set of features."
   ]
  },
  {
   "cell_type": "markdown",
   "metadata": {},
   "source": [
    "#### Model 1: RandomForest Regressor"
   ]
  },
  {
   "cell_type": "code",
   "execution_count": 112,
   "metadata": {
    "collapsed": true
   },
   "outputs": [],
   "source": [
    "# instantiating the model\n",
    "rf_model = RandomForestRegressor(n_estimators=100)"
   ]
  },
  {
   "cell_type": "markdown",
   "metadata": {},
   "source": [
    "#### Technical Choice #2:\n",
    "'n_estimators': The number of trees in the forest\n",
    "                As the number of trees increases the complexity, time taken to run the model increases but the errors                 decreases. But with higher number of trees the model can overfit. Therefore the number of trees should                 be optimal i.e to maintain balance between reduced error and overfitting."
   ]
  },
  {
   "cell_type": "code",
   "execution_count": 113,
   "metadata": {},
   "outputs": [],
   "source": [
    "# fitting the model\n",
    "rf_model.fit(X=train_split.ix[:,cols],y=train_split.ix[:,'Yield'])\n",
    "\n",
    "# important features\n",
    "imp = list(zip(cols,rf_model.feature_importances_))\n",
    "imp=sorted(imp,key=lambda x:x[1])"
   ]
  },
  {
   "cell_type": "code",
   "execution_count": 114,
   "metadata": {},
   "outputs": [
    {
     "name": "stdout",
     "output_type": "stream",
     "text": [
      "[('precipTypeIsOther', 0.0), ('precipTypeIsSnow', 0.00029189168414234766), ('precipTypeIsRain', 0.0011626745261745395), ('precipAccumulation', 0.003710920565215034), ('precipProbability', 0.0077013226941761385), ('precipIntensityMax', 0.014739361083301811), ('precipIntensity', 0.016481908543440286), ('cloudCover', 0.043038495168122769), ('apparentTemperatureMax', 0.047368610314130997), ('visibility', 0.048177345727372339), ('temperatureMin', 0.050550830806836512), ('apparentTemperatureMin', 0.05859493075473942), ('temperatureMax', 0.060403921580267), ('humidity', 0.068570276870110553), ('dewPoint', 0.076327374003527459), ('windSpeed', 0.088303191707672771), ('pressure', 0.1024610111290348), ('windBearing', 0.10250849046239251), ('NDVI', 0.10431793647912092), ('DayInSeason', 0.10528950590022174)]\n"
     ]
    }
   ],
   "source": [
    "# Printing the feature importance\n",
    "print(imp)"
   ]
  },
  {
   "cell_type": "markdown",
   "metadata": {},
   "source": [
    "#### Make Predictions on the Test set"
   ]
  },
  {
   "cell_type": "code",
   "execution_count": 115,
   "metadata": {
    "collapsed": true
   },
   "outputs": [],
   "source": [
    "pred1 = rf_model.predict(test_split.ix[:,cols])"
   ]
  },
  {
   "cell_type": "markdown",
   "metadata": {},
   "source": [
    "### Model Evaluation(Metrics Used)"
   ]
  },
  {
   "cell_type": "markdown",
   "metadata": {},
   "source": [
    "#### Mean Square Error"
   ]
  },
  {
   "cell_type": "code",
   "execution_count": 116,
   "metadata": {},
   "outputs": [
    {
     "name": "stdout",
     "output_type": "stream",
     "text": [
      "MSE: 32.5445\n"
     ]
    }
   ],
   "source": [
    "error1 = err(test_split.ix[:,\"Yield\"], pred1)\n",
    "print( \"MSE: %.4f\" % error1)"
   ]
  },
  {
   "cell_type": "markdown",
   "metadata": {},
   "source": [
    "#### Technical Choice #3:\n",
    "** Metric used: Mean Square error: **\n",
    "\n",
    "Among various metrics like 'mean absolute error', median absolute error', R2 score and 'Mean squared error'. We choose\n",
    "'mean Square Error'. It refers to the mean of the squared deviation of predicted value from the true valued. It is always positive and a value closer to zero is better.\n",
    "\n",
    "Since the errors are square before they are averaged therefore, the MSE gives a relatively high weight to large errors. This means the RMSE is most useful when large errors are particularly undesirable."
   ]
  },
  {
   "cell_type": "markdown",
   "metadata": {},
   "source": [
    "------------------------------------------------------------------------"
   ]
  },
  {
   "cell_type": "markdown",
   "metadata": {},
   "source": [
    "#### Model 2: Gradient Boosting Regressor"
   ]
  },
  {
   "cell_type": "markdown",
   "metadata": {},
   "source": [
    "#### Technical Choice # 4:\n",
    "The next model, we opted for is Gradient Boosting, as it concentrates on reducing the error rather than fitting trees on random samples of the data and it more robust to overfitting than radom forest."
   ]
  },
  {
   "cell_type": "code",
   "execution_count": 117,
   "metadata": {},
   "outputs": [],
   "source": [
    "# Parameters\n",
    "params = {'n_estimators' :600, 'learning_rate' : 0.4, 'loss' : 'ls',\n",
    "         'max_depth' : 8}\n",
    "# instantiating the model\n",
    "XGboost_model = GradientBoostingRegressor(**params)"
   ]
  },
  {
   "cell_type": "markdown",
   "metadata": {},
   "source": [
    "#### Technical Choice # 5:\n",
    "The parameters values used in the above model:\n",
    "1. 'n_estimators': The number of boosting stages to perform on the data\n",
    "2. 'learning_rate': learning rate shrinks the contribution of each tree by learning_rate. There is a trade-off between learning_rate and n_estimators.\n",
    "3. 'loss': 'ls' refers to least squares regression. It is a natural choice for regression due to its superior computational properties.\n",
    "4. 'max_depth': The maximum depth limits the number of nodes in the tree. "
   ]
  },
  {
   "cell_type": "code",
   "execution_count": 122,
   "metadata": {},
   "outputs": [
    {
     "data": {
      "text/plain": [
       "GradientBoostingRegressor(alpha=0.9, init=None, learning_rate=0.4, loss='ls',\n",
       "             max_depth=8, max_features=None, max_leaf_nodes=None,\n",
       "             min_samples_leaf=1, min_samples_split=2,\n",
       "             min_weight_fraction_leaf=0.0, n_estimators=600,\n",
       "             presort='auto', random_state=None, subsample=1.0, verbose=0,\n",
       "             warm_start=False)"
      ]
     },
     "execution_count": 122,
     "metadata": {},
     "output_type": "execute_result"
    }
   ],
   "source": [
    "# fitting the model\n",
    "XGboost_model.fit(train_split.ix[:,cols], train_split.ix[:,\"Yield\"])"
   ]
  },
  {
   "cell_type": "markdown",
   "metadata": {},
   "source": [
    "#### Predictions using the Test set"
   ]
  },
  {
   "cell_type": "code",
   "execution_count": 123,
   "metadata": {},
   "outputs": [],
   "source": [
    "pred2 = XGboost_model.predict(test_split.ix[:,cols])"
   ]
  },
  {
   "cell_type": "markdown",
   "metadata": {},
   "source": [
    "#### Mean Squared error"
   ]
  },
  {
   "cell_type": "code",
   "execution_count": 124,
   "metadata": {},
   "outputs": [
    {
     "name": "stdout",
     "output_type": "stream",
     "text": [
      "MSE: 46.5780\n"
     ]
    }
   ],
   "source": [
    "error2 = err(test_split.ix[:,'Yield'], pred2)\n",
    "print( \"MSE: %.4f\" % error2)"
   ]
  },
  {
   "cell_type": "code",
   "execution_count": 125,
   "metadata": {},
   "outputs": [
    {
     "name": "stdout",
     "output_type": "stream",
     "text": [
      "[('precipTypeIsOther', 0.0), ('precipTypeIsSnow', 0.00033901105112699241), ('precipTypeIsRain', 0.0013632848776586864), ('precipAccumulation', 0.0053956048674925613), ('precipProbability', 0.0076111375991251623), ('precipIntensity', 0.01659487173019969), ('precipIntensityMax', 0.021069598879736175), ('cloudCover', 0.041328881504054962), ('humidity', 0.052089157903250367), ('visibility', 0.055988290604049556), ('apparentTemperatureMax', 0.060677606268600949), ('temperatureMax', 0.063116269270616157), ('apparentTemperatureMin', 0.067361294758196341), ('temperatureMin', 0.069396603261068487), ('DayInSeason', 0.078247219819457065), ('windBearing', 0.08354261915507144), ('dewPoint', 0.084507237743157534), ('windSpeed', 0.09027496538221555), ('NDVI', 0.093384015066367121), ('pressure', 0.10771233025855489)]\n"
     ]
    }
   ],
   "source": [
    "# important features \n",
    "imp2 = list(zip(cols, XGboost_model.feature_importances_))\n",
    "imp2 = sorted(imp2,key=lambda x:x[1])\n",
    "print(imp2)"
   ]
  },
  {
   "cell_type": "markdown",
   "metadata": {},
   "source": [
    "#### Technical Choice #6:\n",
    "Do get a better idea of the number of stages to boost the tree, we plot the deviance plot on the train and the testing data to get a better sense of the error at each boosting stage.\n",
    "Hypothesis: The plot(Deviance vs Boosting iterations) should follow a exponential curve, with deviance curving to a constant value with increasing number of iterations, so the point where the curve tends to be a straight line we can choose the iteration value as 'n_estimators'. "
   ]
  },
  {
   "cell_type": "markdown",
   "metadata": {},
   "source": [
    "### Plotting the test and train get deviance vs the boosting iterations"
   ]
  },
  {
   "cell_type": "code",
   "execution_count": 126,
   "metadata": {},
   "outputs": [
    {
     "data": {
      "text/plain": [
       "<matplotlib.text.Text at 0x119e3bd30>"
      ]
     },
     "execution_count": 126,
     "metadata": {},
     "output_type": "execute_result"
    },
    {
     "data": {
      "image/png": "[encoded data removed]",
      "text/plain": [
       "<matplotlib.figure.Figure at 0x11a46b828>"
      ]
     },
     "metadata": {},
     "output_type": "display_data"
    }
   ],
   "source": [
    "# compute test set deviance\n",
    "test_score = np.zeros((params['n_estimators'],), dtype=np.float64)\n",
    "\n",
    "for i, y_pred in enumerate(XGboost_model.staged_predict(test_split.ix[:,cols])):\n",
    "    test_score[i] = XGboost_model.loss_(test_split.ix[:,\"Yield\"], y_pred)\n",
    "\n",
    "plt.figure(figsize=(12, 6))\n",
    "plt.subplot(1, 2, 1)\n",
    "plt.title('Deviance')\n",
    "plt.plot(np.arange(params['n_estimators']) + 1, XGboost_model.train_score_, 'b-',\n",
    "         label='Training Set Deviance')\n",
    "plt.plot(np.arange(params['n_estimators']) + 1, test_score, 'r-',\n",
    "         label='Test Set Deviance')\n",
    "plt.legend(loc='upper right')\n",
    "plt.xlabel('Boosting Iterations')\n",
    "plt.ylabel('Deviance')\n"
   ]
  },
  {
   "cell_type": "markdown",
   "metadata": {},
   "source": [
    "-----------------------------------------------------------------------"
   ]
  },
  {
   "cell_type": "markdown",
   "metadata": {},
   "source": [
    "#### Model 3: Feed Forward Neural Network Model"
   ]
  },
  {
   "cell_type": "code",
   "execution_count": 269,
   "metadata": {
    "collapsed": true
   },
   "outputs": [],
   "source": [
    "# instantiating the model\n",
    "nn_model = Regressor(\n",
    "    layers=[\n",
    "        Layer(\"Rectifier\", units=100),\n",
    "        Layer(\"Linear\")],\n",
    "    learning_rate=0.005,\n",
    "    n_iter=20)"
   ]
  },
  {
   "cell_type": "markdown",
   "metadata": {},
   "source": [
    "#### Technical Choice #7:\n",
    "1. The activation function for the hidden layer is 'Rectifier' with 100 neurons and 'linear' for the output layer\n",
    "2. The learning rate: the learning rate of backpropogation method.\n",
    "3. n_iter: The number of epoch's"
   ]
  },
  {
   "cell_type": "markdown",
   "metadata": {},
   "source": [
    "#### Technical Choice #8:\n",
    "1. It is best to first normalize or standardize the data before inputting it in the neural network, as standardizing the inputs can make training faster and reduce the chances of getting stuck in local optima.\n",
    "2. We need to first to remove the categorical variables (before normalizing) and then add them back after normalizing the rest of the numeric variables, as normalizing the categorical fields will make them lose their basic purpose.\n",
    "3. Also, it is always better to convert the data and response variable into a numpy array before feeding into a neural network"
   ]
  },
  {
   "cell_type": "code",
   "execution_count": 251,
   "metadata": {},
   "outputs": [],
   "source": [
    "# Response variable\n",
    "train_response = train_split.ix[:,\"Yield\"]\n",
    "test_response = test_split.ix[:,\"Yield\"]"
   ]
  },
  {
   "cell_type": "code",
   "execution_count": 252,
   "metadata": {
    "collapsed": true
   },
   "outputs": [],
   "source": [
    "# removing the categorical variable\n",
    "train_split_cat = train_split.ix[:, 9:12]\n",
    "test_split_cat = test_split.ix[:,9:12]\n",
    "\n",
    "# dropping the categorical variable from rest of the data\n",
    "train_split2 = train_split.drop(train_split.columns[[9,10,11,20]],axis=1)\n",
    "test_split2 = test_split.drop(train_split.columns[[9,10,11,20]],axis=1)"
   ]
  },
  {
   "cell_type": "code",
   "execution_count": 254,
   "metadata": {
    "collapsed": true
   },
   "outputs": [],
   "source": [
    "# Normalizing the input data\n",
    "train_split_norm = (train_split2 - train_split2.mean())/(train_split2.max() - train_split2.min())\n",
    "test_split_norm = (test_split2 - test_split2.mean())/(test_split2.max() - test_split2.min())"
   ]
  },
  {
   "cell_type": "code",
   "execution_count": 255,
   "metadata": {
    "collapsed": true
   },
   "outputs": [],
   "source": [
    "# Normalizing the response variable\n",
    "train_response_norm = (train_response - train_response.mean())/(train_response.max() - train_response.min())\n",
    "test_response_norm = (test_response - test_response.mean())/(test_response.max() - test_response.min())"
   ]
  },
  {
   "cell_type": "code",
   "execution_count": 256,
   "metadata": {},
   "outputs": [],
   "source": [
    "# adding the categorical variable back to the normalized data for training\n",
    "train_split_norm1 = pd.concat([train_split_norm, train_split_cat], axis=1)\n",
    "test_split_norm1 = pd.concat([test_split_norm, test_split_cat], axis=1)"
   ]
  },
  {
   "cell_type": "code",
   "execution_count": 257,
   "metadata": {
    "collapsed": true
   },
   "outputs": [],
   "source": [
    "# converting the dataframe into a numpy array before feeding in the neural net\n",
    "Xtrain_array = train_split_norm1.ix[:,cols].as_matrix()\n",
    "ytrain_array = train_response_norm.as_matrix()\n",
    "Xtest_array = test_split_norm1.ix[:,cols].as_matrix()\n",
    "ytest_array = test_response.as_matrix()"
   ]
  },
  {
   "cell_type": "code",
   "execution_count": 270,
   "metadata": {},
   "outputs": [
    {
     "data": {
      "text/plain": [
       "Regressor(batch_size=1, callback=None, debug=False, dropout_rate=None,\n",
       "     f_stable=0.001,\n",
       "     hidden0=<sknn.nn.Layer `Rectifier`: frozen=False, name='hidden0', units=100>,\n",
       "     layers=[<sknn.nn.Layer `Rectifier`: frozen=False, name='hidden0', units=100>, <sknn.nn.Layer `Linear`: frozen=False, name='output', units=1>],\n",
       "     learning_momentum=0.9, learning_rate=0.005, learning_rule='sgd',\n",
       "     loss_type=None, n_iter=20, n_stable=10, normalize=None,\n",
       "     output=<sknn.nn.Layer `Linear`: frozen=False, name='output', units=1>,\n",
       "     parameters=None, random_state=None, regularize=None, valid_set=None,\n",
       "     valid_size=0.0, verbose=None, warning=None, weight_decay=None)"
      ]
     },
     "execution_count": 270,
     "metadata": {},
     "output_type": "execute_result"
    }
   ],
   "source": [
    "# training the model\n",
    "nn_model.fit(Xtrain_array, ytrain_array)"
   ]
  },
  {
   "cell_type": "markdown",
   "metadata": {},
   "source": [
    "#### Predicting on the test split"
   ]
  },
  {
   "cell_type": "code",
   "execution_count": 271,
   "metadata": {},
   "outputs": [],
   "source": [
    "pred3= nn_model.predict(Xtest_array)\n",
    "# denormalizing the data\n",
    "pred3_ = (pred3*(test_response.max() - test_response.min())) + test_response.mean()"
   ]
  },
  {
   "cell_type": "markdown",
   "metadata": {},
   "source": [
    "#### Technical Choice #9:\n",
    " I have denormalized the response variable before calculating the MSE value."
   ]
  },
  {
   "cell_type": "markdown",
   "metadata": {},
   "source": [
    "#### Mean Squared Error"
   ]
  },
  {
   "cell_type": "code",
   "execution_count": 273,
   "metadata": {},
   "outputs": [
    {
     "name": "stdout",
     "output_type": "stream",
     "text": [
      "MSE: 129.0303\n"
     ]
    }
   ],
   "source": [
    "error3 = err(ytest_array, pred3_)\n",
    "print( \"MSE: %.4f\" % error3)"
   ]
  },
  {
   "cell_type": "markdown",
   "metadata": {},
   "source": [
    "----------------------------------------------------------------------------------------------------"
   ]
  },
  {
   "cell_type": "markdown",
   "metadata": {},
   "source": [
    "#### Model 4: K Nearest Neighbors"
   ]
  },
  {
   "cell_type": "code",
   "execution_count": 118,
   "metadata": {
    "collapsed": true
   },
   "outputs": [],
   "source": [
    "# instantiating the model\n",
    "knn_model = KNeighborsRegressor(n_neighbors= 3)"
   ]
  },
  {
   "cell_type": "markdown",
   "metadata": {},
   "source": [
    "#### Technical Choice #10:\n",
    " I have used the nearest neighbors as 3(default = 5), This is chosen after performing iterations with various different values of the n_neighbors."
   ]
  },
  {
   "cell_type": "code",
   "execution_count": 119,
   "metadata": {},
   "outputs": [
    {
     "data": {
      "text/plain": [
       "KNeighborsRegressor(algorithm='auto', leaf_size=30, metric='minkowski',\n",
       "          metric_params=None, n_jobs=1, n_neighbors=3, p=2,\n",
       "          weights='uniform')"
      ]
     },
     "execution_count": 119,
     "metadata": {},
     "output_type": "execute_result"
    }
   ],
   "source": [
    "# fitting the model\n",
    "knn_model.fit(train_split.ix[:,cols], train_split.ix[:,\"Yield\"])"
   ]
  },
  {
   "cell_type": "markdown",
   "metadata": {},
   "source": [
    "#### Predicting on the Test split"
   ]
  },
  {
   "cell_type": "code",
   "execution_count": 120,
   "metadata": {
    "collapsed": true
   },
   "outputs": [],
   "source": [
    "pred4 = knn_model.predict(test_split.ix[:,cols])"
   ]
  },
  {
   "cell_type": "markdown",
   "metadata": {},
   "source": [
    "#### Mean Squared Error"
   ]
  },
  {
   "cell_type": "code",
   "execution_count": 121,
   "metadata": {},
   "outputs": [
    {
     "name": "stdout",
     "output_type": "stream",
     "text": [
      "MSE : 41.1616\n"
     ]
    }
   ],
   "source": [
    "error4 = err(test_split.ix[:,\"Yield\"], pred4)\n",
    "print(\"MSE : %.4f\" % error4)"
   ]
  },
  {
   "cell_type": "code",
   "execution_count": null,
   "metadata": {
    "collapsed": true
   },
   "outputs": [],
   "source": []
  },
  {
   "cell_type": "markdown",
   "metadata": {},
   "source": [
    "--------------------------------------------------------------"
   ]
  },
  {
   "cell_type": "markdown",
   "metadata": {},
   "source": [
    "## Rough Work"
   ]
  },
  {
   "cell_type": "code",
   "execution_count": null,
   "metadata": {
    "collapsed": true
   },
   "outputs": [],
   "source": []
  },
  {
   "cell_type": "code",
   "execution_count": 145,
   "metadata": {},
   "outputs": [],
   "source": [
    "# Plotting Feature Importance\n",
    "#feature_importance = XGboost_model.feature_importances_\n",
    "# make importances relative to max importance\n",
    "#feature_importance = 100.0 * (feature_importance / feature_importance.max())\n",
    "#sorted_idx = np.argsort(feature_importance)\n",
    "#pos = np.arange(sorted_idx.shape[0]) + .5\n",
    "#plt.subplot(1, 2, 2)\n",
    "#plt.barh(pos, feature_importance[sorted_idx], align='center')\n",
    "#plt.yticks(pos, cols[sorted_idx])  # <-- use something else than 'cols'\n",
    "#plt.xlabel('Relative Importance')\n",
    "#plt.title('Variable Importance')\n",
    "#plt.show()\n",
    "\n",
    "# incomplete"
   ]
  }
 ],
 "metadata": {
  "anaconda-cloud": {},
  "kernelspec": {
   "display_name": "Python 3",
   "language": "python",
   "name": "python3"
  },
  "language_info": {
   "codemirror_mode": {
    "name": "ipython",
    "version": 3
   },
   "file_extension": ".py",
   "mimetype": "text/x-python",
   "name": "python",
   "nbconvert_exporter": "python",
   "pygments_lexer": "ipython3",
   "version": "3.6.1"
  }
 },
 "nbformat": 4,
 "nbformat_minor": 1
}
